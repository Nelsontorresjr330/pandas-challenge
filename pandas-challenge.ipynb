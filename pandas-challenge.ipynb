{
 "cells": [
  {
   "cell_type": "code",
   "execution_count": 1,
   "metadata": {},
   "outputs": [],
   "source": [
    "# Dependencies and Setup\n",
    "import pandas as pd\n",
    "import numpy as np\n",
    "\n",
    "# File to Load (Remember to Change These)\n",
    "file_to_load = \"Resources/purchase_data.csv\"\n",
    "\n",
    "# Read Purchasing File and store into Pandas data frame\n",
    "purchase_data = pd.read_csv(file_to_load)\n",
    "\n",
    "#Makes some extra dataframes\n",
    "df = purchase_data.copy()\n",
    "df2 = df.copy()"
   ]
  },
  {
   "cell_type": "code",
   "execution_count": 2,
   "metadata": {},
   "outputs": [
    {
     "data": {
      "text/html": [
       "<div>\n",
       "<style scoped>\n",
       "    .dataframe tbody tr th:only-of-type {\n",
       "        vertical-align: middle;\n",
       "    }\n",
       "\n",
       "    .dataframe tbody tr th {\n",
       "        vertical-align: top;\n",
       "    }\n",
       "\n",
       "    .dataframe thead th {\n",
       "        text-align: right;\n",
       "    }\n",
       "</style>\n",
       "<table border=\"1\" class=\"dataframe\">\n",
       "  <thead>\n",
       "    <tr style=\"text-align: right;\">\n",
       "      <th></th>\n",
       "      <th>Purchase ID</th>\n",
       "      <th>SN</th>\n",
       "      <th>Age</th>\n",
       "      <th>Gender</th>\n",
       "      <th>Item ID</th>\n",
       "      <th>Item Name</th>\n",
       "      <th>Price</th>\n",
       "    </tr>\n",
       "  </thead>\n",
       "  <tbody>\n",
       "    <tr>\n",
       "      <th>0</th>\n",
       "      <td>0</td>\n",
       "      <td>Lisim78</td>\n",
       "      <td>20</td>\n",
       "      <td>Male</td>\n",
       "      <td>108</td>\n",
       "      <td>Extraction, Quickblade Of Trembling Hands</td>\n",
       "      <td>3.53</td>\n",
       "    </tr>\n",
       "    <tr>\n",
       "      <th>1</th>\n",
       "      <td>1</td>\n",
       "      <td>Lisovynya38</td>\n",
       "      <td>40</td>\n",
       "      <td>Male</td>\n",
       "      <td>143</td>\n",
       "      <td>Frenzied Scimitar</td>\n",
       "      <td>1.56</td>\n",
       "    </tr>\n",
       "    <tr>\n",
       "      <th>2</th>\n",
       "      <td>2</td>\n",
       "      <td>Ithergue48</td>\n",
       "      <td>24</td>\n",
       "      <td>Male</td>\n",
       "      <td>92</td>\n",
       "      <td>Final Critic</td>\n",
       "      <td>4.88</td>\n",
       "    </tr>\n",
       "    <tr>\n",
       "      <th>3</th>\n",
       "      <td>3</td>\n",
       "      <td>Chamassasya86</td>\n",
       "      <td>24</td>\n",
       "      <td>Male</td>\n",
       "      <td>100</td>\n",
       "      <td>Blindscythe</td>\n",
       "      <td>3.27</td>\n",
       "    </tr>\n",
       "    <tr>\n",
       "      <th>4</th>\n",
       "      <td>4</td>\n",
       "      <td>Iskosia90</td>\n",
       "      <td>23</td>\n",
       "      <td>Male</td>\n",
       "      <td>131</td>\n",
       "      <td>Fury</td>\n",
       "      <td>1.44</td>\n",
       "    </tr>\n",
       "  </tbody>\n",
       "</table>\n",
       "</div>"
      ],
      "text/plain": [
       "   Purchase ID             SN  Age Gender  Item ID  \\\n",
       "0            0        Lisim78   20   Male      108   \n",
       "1            1    Lisovynya38   40   Male      143   \n",
       "2            2     Ithergue48   24   Male       92   \n",
       "3            3  Chamassasya86   24   Male      100   \n",
       "4            4      Iskosia90   23   Male      131   \n",
       "\n",
       "                                   Item Name  Price  \n",
       "0  Extraction, Quickblade Of Trembling Hands   3.53  \n",
       "1                          Frenzied Scimitar   1.56  \n",
       "2                               Final Critic   4.88  \n",
       "3                                Blindscythe   3.27  \n",
       "4                                       Fury   1.44  "
      ]
     },
     "execution_count": 2,
     "metadata": {},
     "output_type": "execute_result"
    }
   ],
   "source": [
    "#Checkin out the data \n",
    "df.head()"
   ]
  },
  {
   "cell_type": "code",
   "execution_count": 3,
   "metadata": {},
   "outputs": [
    {
     "data": {
      "text/html": [
       "<div>\n",
       "<style scoped>\n",
       "    .dataframe tbody tr th:only-of-type {\n",
       "        vertical-align: middle;\n",
       "    }\n",
       "\n",
       "    .dataframe tbody tr th {\n",
       "        vertical-align: top;\n",
       "    }\n",
       "\n",
       "    .dataframe thead th {\n",
       "        text-align: right;\n",
       "    }\n",
       "</style>\n",
       "<table border=\"1\" class=\"dataframe\">\n",
       "  <thead>\n",
       "    <tr style=\"text-align: right;\">\n",
       "      <th></th>\n",
       "      <th>Total Players</th>\n",
       "    </tr>\n",
       "  </thead>\n",
       "  <tbody>\n",
       "    <tr>\n",
       "      <th>0</th>\n",
       "      <td>576</td>\n",
       "    </tr>\n",
       "  </tbody>\n",
       "</table>\n",
       "</div>"
      ],
      "text/plain": [
       "   Total Players\n",
       "0            576"
      ]
     },
     "execution_count": 3,
     "metadata": {},
     "output_type": "execute_result"
    }
   ],
   "source": [
    "# Gets the total number of players\n",
    "players = pd.unique(df[\"SN\"])\n",
    "players_df = pd.DataFrame(players)\n",
    "p_count = players_df.count()\n",
    "\n",
    "#Makes a dataframe to hold the total number of players\n",
    "total_p = pd.DataFrame()\n",
    "total_p[\"Total Players\"] = p_count\n",
    "total_p.head()\n"
   ]
  },
  {
   "cell_type": "code",
   "execution_count": 4,
   "metadata": {},
   "outputs": [
    {
     "data": {
      "text/html": [
       "<div>\n",
       "<style scoped>\n",
       "    .dataframe tbody tr th:only-of-type {\n",
       "        vertical-align: middle;\n",
       "    }\n",
       "\n",
       "    .dataframe tbody tr th {\n",
       "        vertical-align: top;\n",
       "    }\n",
       "\n",
       "    .dataframe thead th {\n",
       "        text-align: right;\n",
       "    }\n",
       "</style>\n",
       "<table border=\"1\" class=\"dataframe\">\n",
       "  <thead>\n",
       "    <tr style=\"text-align: right;\">\n",
       "      <th></th>\n",
       "      <th>Number of Unique Items</th>\n",
       "      <th>Average Price</th>\n",
       "      <th>Number of Purchases</th>\n",
       "      <th>Total Revenue</th>\n",
       "    </tr>\n",
       "  </thead>\n",
       "  <tbody>\n",
       "    <tr>\n",
       "      <th>0</th>\n",
       "      <td>183</td>\n",
       "      <td>3.05</td>\n",
       "      <td>780</td>\n",
       "      <td>2379.77</td>\n",
       "    </tr>\n",
       "  </tbody>\n",
       "</table>\n",
       "</div>"
      ],
      "text/plain": [
       "   Number of Unique Items  Average Price  Number of Purchases  Total Revenue\n",
       "0                     183           3.05                  780        2379.77"
      ]
     },
     "execution_count": 4,
     "metadata": {},
     "output_type": "execute_result"
    }
   ],
   "source": [
    "#Gets the total number of unique items\n",
    "items = pd.unique(df[\"Item ID\"])\n",
    "items_df = pd.DataFrame(items)\n",
    "i_count = items_df.count()\n",
    "\n",
    "#Gets the total revenue \n",
    "revenue = df[\"Price\"].sum()\n",
    "\n",
    "#Calculates the Number of Purchases\n",
    "purchases = df[\"Purchase ID\"].count()\n",
    "\n",
    "#Calculates the average price per sale\n",
    "average_price = revenue/purchases\n",
    "\n",
    "#Makes a dataframe to hold the incredibly valuable information\n",
    "summary = pd.DataFrame()\n",
    "summary[\"Number of Unique Items\"] = i_count\n",
    "summary[\"Average Price\"] = average_price.round(2)\n",
    "summary[\"Number of Purchases\"] = purchases\n",
    "summary[\"Total Revenue\"] = revenue\n",
    "summary"
   ]
  },
  {
   "cell_type": "code",
   "execution_count": 17,
   "metadata": {},
   "outputs": [
    {
     "data": {
      "text/html": [
       "<div>\n",
       "<style scoped>\n",
       "    .dataframe tbody tr th:only-of-type {\n",
       "        vertical-align: middle;\n",
       "    }\n",
       "\n",
       "    .dataframe tbody tr th {\n",
       "        vertical-align: top;\n",
       "    }\n",
       "\n",
       "    .dataframe thead th {\n",
       "        text-align: right;\n",
       "    }\n",
       "</style>\n",
       "<table border=\"1\" class=\"dataframe\">\n",
       "  <thead>\n",
       "    <tr style=\"text-align: right;\">\n",
       "      <th></th>\n",
       "      <th>Total Count</th>\n",
       "      <th>Percentage of Players</th>\n",
       "    </tr>\n",
       "    <tr>\n",
       "      <th>Gender</th>\n",
       "      <th></th>\n",
       "      <th></th>\n",
       "    </tr>\n",
       "  </thead>\n",
       "  <tbody>\n",
       "    <tr>\n",
       "      <th>Male</th>\n",
       "      <td>652</td>\n",
       "      <td>83.59</td>\n",
       "    </tr>\n",
       "    <tr>\n",
       "      <th>Female</th>\n",
       "      <td>113</td>\n",
       "      <td>14.49</td>\n",
       "    </tr>\n",
       "    <tr>\n",
       "      <th>Other / Non-Disclosed</th>\n",
       "      <td>15</td>\n",
       "      <td>1.92</td>\n",
       "    </tr>\n",
       "  </tbody>\n",
       "</table>\n",
       "</div>"
      ],
      "text/plain": [
       "                       Total Count  Percentage of Players\n",
       "Gender                                                   \n",
       "Male                           652                  83.59\n",
       "Female                         113                  14.49\n",
       "Other / Non-Disclosed           15                   1.92"
      ]
     },
     "execution_count": 17,
     "metadata": {},
     "output_type": "execute_result"
    }
   ],
   "source": [
    "#Creates a Dataframe with only unique players and their genders\n",
    "#unique = df2.drop(columns = [\"SN\",\"Item ID\",\"Item Name\",\"Price\",\"Purchase ID\"])\n",
    "#unique = unique.merge(players_df, how='outer', left_index = True, right_index = True)\n",
    "#unique = unique.dropna()\n",
    "unique = df.groupby(\"Gender\")[\"Gender\"]\n",
    "\n",
    "#Takes the value count of each player by gender and assigns it to a variable\n",
    "gender = unique.value_counts()\n",
    "male = gender[1]\n",
    "female = gender[0]\n",
    "na = gender[2]\n",
    "gsum = male + female + na\n",
    "percent_m = (male/gsum)*100\n",
    "percent_f = (female/gsum)*100\n",
    "percent_n = (na/gsum)*100\n",
    "\n",
    "#Creates a new DataFrame with all the information\n",
    "gender_df = pd.DataFrame(\n",
    "    {\"Gender\": [\"Male\", \"Female\", \"Other / Non-Disclosed\"],\n",
    "     \"Total Count\": [male,female,na],\n",
    "     \"Percentage of Players\" : [percent_m.round(2),percent_f.round(2),percent_n.round(2)]  \n",
    "    }\n",
    ")\n",
    "gender_df = gender_df.set_index(\"Gender\")\n",
    "gender_df"
   ]
  },
  {
   "cell_type": "code",
<<<<<<< HEAD
<<<<<<< HEAD
   "execution_count": 10,
=======
   "execution_count": 6,
>>>>>>> 01b2774f2b79ee541ecaa470bea9277fb462d5f2
=======
   "execution_count": 10,
>>>>>>> 71b255b0e06311a05e81fac9d67488eb51e19f2b
   "metadata": {},
   "outputs": [
    {
     "data": {
      "text/html": [
       "<div>\n",
       "<style scoped>\n",
       "    .dataframe tbody tr th:only-of-type {\n",
       "        vertical-align: middle;\n",
       "    }\n",
       "\n",
       "    .dataframe tbody tr th {\n",
       "        vertical-align: top;\n",
       "    }\n",
       "\n",
       "    .dataframe thead th {\n",
       "        text-align: right;\n",
       "    }\n",
       "</style>\n",
       "<table border=\"1\" class=\"dataframe\">\n",
       "  <thead>\n",
       "    <tr style=\"text-align: right;\">\n",
       "      <th></th>\n",
       "      <th>Purchase Count</th>\n",
       "      <th>Average Purchase Price</th>\n",
       "      <th>Total Purchase Value</th>\n",
<<<<<<< HEAD
<<<<<<< HEAD
       "      <th>Avg Total Purchase per Person</th>\n",
=======
>>>>>>> 01b2774f2b79ee541ecaa470bea9277fb462d5f2
=======
       "      <th>Avg Total Purchase per Person</th>\n",
>>>>>>> 71b255b0e06311a05e81fac9d67488eb51e19f2b
       "    </tr>\n",
       "    <tr>\n",
       "      <th>Gender</th>\n",
       "      <th></th>\n",
       "      <th></th>\n",
       "      <th></th>\n",
<<<<<<< HEAD
<<<<<<< HEAD
       "      <th></th>\n",
=======
>>>>>>> 01b2774f2b79ee541ecaa470bea9277fb462d5f2
=======
       "      <th></th>\n",
>>>>>>> 71b255b0e06311a05e81fac9d67488eb51e19f2b
       "    </tr>\n",
       "  </thead>\n",
       "  <tbody>\n",
       "    <tr>\n",
       "      <th>Female</th>\n",
       "      <td>113</td>\n",
       "      <td>3.20</td>\n",
       "      <td>361.94</td>\n",
<<<<<<< HEAD
<<<<<<< HEAD
       "      <td>4.11</td>\n",
=======
>>>>>>> 01b2774f2b79ee541ecaa470bea9277fb462d5f2
=======
       "      <td>3.20</td>\n",
>>>>>>> 71b255b0e06311a05e81fac9d67488eb51e19f2b
       "    </tr>\n",
       "    <tr>\n",
       "      <th>Male</th>\n",
       "      <td>652</td>\n",
       "      <td>3.02</td>\n",
       "      <td>1967.64</td>\n",
<<<<<<< HEAD
<<<<<<< HEAD
       "      <td>4.13</td>\n",
=======
>>>>>>> 01b2774f2b79ee541ecaa470bea9277fb462d5f2
=======
       "      <td>3.02</td>\n",
>>>>>>> 71b255b0e06311a05e81fac9d67488eb51e19f2b
       "    </tr>\n",
       "    <tr>\n",
       "      <th>Other / Non-Disclosed</th>\n",
       "      <td>15</td>\n",
       "      <td>3.35</td>\n",
       "      <td>50.19</td>\n",
<<<<<<< HEAD
<<<<<<< HEAD
       "      <td>4.18</td>\n",
=======
>>>>>>> 01b2774f2b79ee541ecaa470bea9277fb462d5f2
=======
       "      <td>3.35</td>\n",
>>>>>>> 71b255b0e06311a05e81fac9d67488eb51e19f2b
       "    </tr>\n",
       "  </tbody>\n",
       "</table>\n",
       "</div>"
      ],
      "text/plain": [
       "                       Purchase Count  Average Purchase Price  \\\n",
       "Gender                                                          \n",
       "Female                            113                    3.20   \n",
       "Male                              652                    3.02   \n",
       "Other / Non-Disclosed              15                    3.35   \n",
       "\n",
<<<<<<< HEAD
<<<<<<< HEAD
       "                       Total Purchase Value  Avg Total Purchase per Person  \n",
       "Gender                                                                      \n",
       "Female                               361.94                           4.11  \n",
       "Male                                1967.64                           4.13  \n",
       "Other / Non-Disclosed                 50.19                           4.18  "
      ]
     },
     "execution_count": 10,
=======
       "                       Total Purchase Value  \n",
       "Gender                                       \n",
       "Female                               361.94  \n",
       "Male                                1967.64  \n",
       "Other / Non-Disclosed                 50.19  "
      ]
     },
     "execution_count": 6,
>>>>>>> 01b2774f2b79ee541ecaa470bea9277fb462d5f2
=======
       "                       Total Purchase Value  Avg Total Purchase per Person  \n",
       "Gender                                                                      \n",
       "Female                               361.94                           3.20  \n",
       "Male                                1967.64                           3.02  \n",
       "Other / Non-Disclosed                 50.19                           3.35  "
      ]
     },
     "execution_count": 10,
>>>>>>> 71b255b0e06311a05e81fac9d67488eb51e19f2b
     "metadata": {},
     "output_type": "execute_result"
    }
   ],
   "source": [
    "#The code before this would have been a lot shorter if I knew the difference between set_index and groupby\n",
    "#luckily I figured out groupby so get ready for much neater code\n",
    "\n",
    "#Total purchases by gender\n",
    "purchases_gen = df.groupby(\"Gender\")[\"Purchase ID\"]\n",
    "test = purchases_gen.count()\n",
    "\n",
    "#Mean price per item\n",
    "mean_gen = df.groupby(\"Gender\")[\"Price\"].mean()\n",
    "#mean_gen\n",
    "\n",
    "#Total profit by gender\n",
    "total_gen = df.groupby(\"Gender\")[\"Price\"].sum()\n",
    "#total_gen\n",
    "\n",
<<<<<<< HEAD
    "#FIXXXXXXXXXXXXXXX THISSSSSSSSSSSSSSSSS LATERRRRRRRRRRRRRRRRRRRRRRRRRRRR\n",
<<<<<<< HEAD
    "avg_gen = total_gen/gender_df[\"Total Count\"]\n",
    "avg_gen\n",
=======
    "#avg_gen = df.groupby(\"Gender\")[\"Price\"].mean().sum()\n",
=======
    "#Average sale per person\n",
    "avg_gen = total_gen/gender_df[\"Total Count\"]\n",
>>>>>>> 71b255b0e06311a05e81fac9d67488eb51e19f2b
    "#avg_gen\n",
>>>>>>> 01b2774f2b79ee541ecaa470bea9277fb462d5f2
    "\n",
    "#Creates a Dataframe with all the wonderful\n",
    "purchases = pd.DataFrame(\n",
    "    {#\"Gender\": [\"Male\", \"Female\", \"Other / Non-Disclosed\"],\n",
    "     \"Purchase Count\": test,\n",
    "     \"Average Purchase Price\" : mean_gen.round(2),\n",
<<<<<<< HEAD
<<<<<<< HEAD
    "     \"Total Purchase Value\" : total_gen,\n",
    "     \"Avg Total Purchase per Person\" : avg_gen.round(2)\n",
=======
    "     \"Total Purchase Value\" : total_gen\n",
>>>>>>> 01b2774f2b79ee541ecaa470bea9277fb462d5f2
=======
    "     \"Total Purchase Value\" : total_gen,\n",
    "     \"Avg Total Purchase per Person\" : avg_gen.round(2)\n",
>>>>>>> 71b255b0e06311a05e81fac9d67488eb51e19f2b
    "    }\n",
    ")\n",
    "purchases"
   ]
  },
  {
   "cell_type": "code",
<<<<<<< HEAD
<<<<<<< HEAD
   "execution_count": 11,
=======
   "execution_count": 7,
>>>>>>> 01b2774f2b79ee541ecaa470bea9277fb462d5f2
=======
   "execution_count": 39,
>>>>>>> 71b255b0e06311a05e81fac9d67488eb51e19f2b
   "metadata": {},
   "outputs": [
    {
     "data": {
      "text/html": [
       "<div>\n",
       "<style scoped>\n",
       "    .dataframe tbody tr th:only-of-type {\n",
       "        vertical-align: middle;\n",
       "    }\n",
       "\n",
       "    .dataframe tbody tr th {\n",
       "        vertical-align: top;\n",
       "    }\n",
       "\n",
       "    .dataframe thead th {\n",
       "        text-align: right;\n",
       "    }\n",
       "</style>\n",
       "<table border=\"1\" class=\"dataframe\">\n",
       "  <thead>\n",
       "    <tr style=\"text-align: right;\">\n",
       "      <th></th>\n",
       "      <th>Total Count</th>\n",
       "      <th>Percentage of Players</th>\n",
       "    </tr>\n",
       "  </thead>\n",
       "  <tbody>\n",
       "    <tr>\n",
       "      <th>&lt;10</th>\n",
       "      <td>24</td>\n",
       "      <td>4.17</td>\n",
       "    </tr>\n",
       "    <tr>\n",
       "      <th>10-14</th>\n",
       "      <td>41</td>\n",
       "      <td>7.12</td>\n",
       "    </tr>\n",
       "    <tr>\n",
       "      <th>15-19</th>\n",
       "      <td>150</td>\n",
       "      <td>26.04</td>\n",
       "    </tr>\n",
       "    <tr>\n",
       "      <th>20-24</th>\n",
       "      <td>232</td>\n",
       "      <td>40.28</td>\n",
       "    </tr>\n",
       "    <tr>\n",
       "      <th>25-29</th>\n",
       "      <td>59</td>\n",
       "      <td>10.24</td>\n",
       "    </tr>\n",
       "    <tr>\n",
       "      <th>30-34</th>\n",
       "      <td>37</td>\n",
       "      <td>6.42</td>\n",
       "    </tr>\n",
       "    <tr>\n",
       "      <th>35-39</th>\n",
       "      <td>26</td>\n",
       "      <td>4.51</td>\n",
       "    </tr>\n",
       "    <tr>\n",
       "      <th>&gt;=40</th>\n",
       "      <td>7</td>\n",
       "      <td>1.22</td>\n",
       "    </tr>\n",
       "  </tbody>\n",
       "</table>\n",
       "</div>"
      ],
      "text/plain": [
       "       Total Count  Percentage of Players\n",
       "<10             24                   4.17\n",
       "10-14           41                   7.12\n",
       "15-19          150                  26.04\n",
       "20-24          232                  40.28\n",
       "25-29           59                  10.24\n",
       "30-34           37                   6.42\n",
       "35-39           26                   4.51\n",
       ">=40             7                   1.22"
      ]
     },
<<<<<<< HEAD
<<<<<<< HEAD
     "execution_count": 11,
=======
     "execution_count": 7,
>>>>>>> 01b2774f2b79ee541ecaa470bea9277fb462d5f2
=======
     "execution_count": 39,
>>>>>>> 71b255b0e06311a05e81fac9d67488eb51e19f2b
     "metadata": {},
     "output_type": "execute_result"
    }
   ],
   "source": [
    "#Makes bins to sort ages\n",
    "bins = [0, 10, 15, 20, 25, 30, 35, 40, 1000]\n",
    "ages = [\"<10\", \"10-14\",\"15-19\", \"20-24\", \"25-29\", \"30-34\", \"35-39\", \">=40\"]\n",
    "\n",
    "#Creates a dataframe with the unique players and their age\n",
    "unique_ages = df.groupby(\"SN\")[\"Age\"].unique()\n",
    "\n",
    "#Cuts the dataframe into bins\n",
    "ages_cut = pd.cut(unique_ages, bins, labels=ages)\n",
    "ages_df = pd.DataFrame()\n",
    "ages_df[\"Total Count\"] = ages_cut.value_counts()\n",
    "ages_df[\"Percentage of Players\"] =  ((ages_cut.value_counts() / 576 ) * 100).round(2) #for some reason diving my p_count breaks it\n",
    "ages_df = ages_df.sort_index()\n",
    "ages_df"
   ]
  },
  {
   "cell_type": "code",
<<<<<<< HEAD
<<<<<<< HEAD
   "execution_count": 16,
=======
   "execution_count": 8,
>>>>>>> 01b2774f2b79ee541ecaa470bea9277fb462d5f2
=======
   "execution_count": 44,
>>>>>>> 71b255b0e06311a05e81fac9d67488eb51e19f2b
   "metadata": {},
   "outputs": [
    {
     "data": {
      "text/plain": [
       "Age Range\n",
       "<10      4.540000\n",
       "10-14    3.819512\n",
       "15-19    4.143733\n",
       "20-24    4.231207\n",
       "25-29    3.752881\n",
       "30-34    4.208378\n",
       "35-39    4.321154\n",
       ">=40     3.075714\n",
       "dtype: float64"
      ]
     },
<<<<<<< HEAD
<<<<<<< HEAD
     "execution_count": 16,
=======
     "execution_count": 8,
>>>>>>> 01b2774f2b79ee541ecaa470bea9277fb462d5f2
=======
     "execution_count": 44,
>>>>>>> 71b255b0e06311a05e81fac9d67488eb51e19f2b
     "metadata": {},
     "output_type": "execute_result"
    }
   ],
   "source": [
    "#Creates a dataframe with all the beautiful data\n",
    "ages_stats = df\n",
    "ages_stats[\"Age Range\"] = pd.cut(df[\"Age\"], bins, labels= ages)\n",
    "\n",
    "#More fun with groupby\n",
    "#Finds The total amount of sales per age range\n",
    "count_age = ages_stats.groupby(\"Age Range\")[\"Price\"]\n",
    "count_age = count_age.count()\n",
    "\n",
    "#Finds the mean price per sale\n",
    "price_avg_age = ages_stats.groupby(\"Age Range\")[\"Price\"].mean() \n",
    "\n",
    "#Finds the total profit of all sales sorted by age groups\n",
    "price_total_age = ages_stats.groupby(\"Age Range\")[\"Price\"].sum()\n",
    "\n",
    "#FIXXXXXXXXXXXXXXX THISSSSSSSSSSSSSSSSS LATERRRRRRRRRRRRRRRRRRRRRRRRRRRR\n",
    "avg_age_pers = price_total_age/ages_df[\"Total Count\"]\n",
    "#avg_age_pers\n",
    "\n",
    "#Creates a dataframe with all this wonderful information\n",
    "age_summary_stuff = pd.DataFrame({\n",
    "    \"Purchase Count\": count_age,\n",
    "    \"Average Purchase Price\": price_avg_age.round(2),\n",
    "    \"Total Purchase Value\": price_total_age,\n",
    "   \"Avg Total Purchase per Person\": avg_age_pers\n",
    "})\n",
    "age_summary_stuff"
   ]
  },
  {
   "cell_type": "code",
<<<<<<< HEAD
<<<<<<< HEAD
   "execution_count": 13,
=======
   "execution_count": 9,
>>>>>>> 01b2774f2b79ee541ecaa470bea9277fb462d5f2
=======
   "execution_count": 41,
>>>>>>> 71b255b0e06311a05e81fac9d67488eb51e19f2b
   "metadata": {},
   "outputs": [
    {
     "data": {
      "text/html": [
       "<div>\n",
       "<style scoped>\n",
       "    .dataframe tbody tr th:only-of-type {\n",
       "        vertical-align: middle;\n",
       "    }\n",
       "\n",
       "    .dataframe tbody tr th {\n",
       "        vertical-align: top;\n",
       "    }\n",
       "\n",
       "    .dataframe thead th {\n",
       "        text-align: right;\n",
       "    }\n",
       "</style>\n",
       "<table border=\"1\" class=\"dataframe\">\n",
       "  <thead>\n",
       "    <tr style=\"text-align: right;\">\n",
       "      <th></th>\n",
       "      <th>Purchase Count</th>\n",
       "      <th>Average Purchase Price</th>\n",
       "      <th>Total Purchase Value</th>\n",
       "    </tr>\n",
       "    <tr>\n",
       "      <th>SN</th>\n",
       "      <th></th>\n",
       "      <th></th>\n",
       "      <th></th>\n",
       "    </tr>\n",
       "  </thead>\n",
       "  <tbody>\n",
       "    <tr>\n",
       "      <th>Lisosia93</th>\n",
       "      <td>5</td>\n",
       "      <td>3.79</td>\n",
       "      <td>18.96</td>\n",
       "    </tr>\n",
       "    <tr>\n",
       "      <th>Idastidru52</th>\n",
       "      <td>4</td>\n",
       "      <td>3.86</td>\n",
       "      <td>15.45</td>\n",
       "    </tr>\n",
       "    <tr>\n",
       "      <th>Chamjask73</th>\n",
       "      <td>3</td>\n",
       "      <td>4.61</td>\n",
       "      <td>13.83</td>\n",
       "    </tr>\n",
       "    <tr>\n",
       "      <th>Iral74</th>\n",
       "      <td>4</td>\n",
       "      <td>3.40</td>\n",
       "      <td>13.62</td>\n",
       "    </tr>\n",
       "    <tr>\n",
       "      <th>Iskadarya95</th>\n",
       "      <td>3</td>\n",
       "      <td>4.37</td>\n",
       "      <td>13.10</td>\n",
       "    </tr>\n",
       "  </tbody>\n",
       "</table>\n",
       "</div>"
      ],
      "text/plain": [
       "             Purchase Count  Average Purchase Price  Total Purchase Value\n",
       "SN                                                                       \n",
       "Lisosia93                 5                    3.79                 18.96\n",
       "Idastidru52               4                    3.86                 15.45\n",
       "Chamjask73                3                    4.61                 13.83\n",
       "Iral74                    4                    3.40                 13.62\n",
       "Iskadarya95               3                    4.37                 13.10"
      ]
     },
<<<<<<< HEAD
<<<<<<< HEAD
     "execution_count": 13,
=======
     "execution_count": 9,
>>>>>>> 01b2774f2b79ee541ecaa470bea9277fb462d5f2
=======
     "execution_count": 41,
>>>>>>> 71b255b0e06311a05e81fac9d67488eb51e19f2b
     "metadata": {},
     "output_type": "execute_result"
    }
   ],
   "source": [
    "#I'm running out of names for all these DF's \n",
    "#It's fine though because I know groupby like a pro now\n",
    "\n",
    "#Creates a dataframe with the total number of sales per player\n",
    "purchase_count = df.groupby(\"SN\")[\"Price\"]\n",
    "purchase_count = purchase_count.count()\n",
    "\n",
    "#Creates a dataframe with the average purchase price per player\n",
    "average_purchase_price = df.groupby(\"SN\")[\"Price\"].mean()\n",
    "#average_purchase_price\n",
    "\n",
    "#Creates a dataframe with the total profit per player\n",
    "total_purchase_price = df.groupby(\"SN\")[\"Price\"].sum()\n",
    "#total_purchase_price\n",
    "\n",
    "#Creates a dataframe with all the information and sorts it by the amount of money spent\n",
    "coolest_players = pd.DataFrame({\n",
    "    \"Purchase Count\":purchase_count,\n",
    "    \"Average Purchase Price\": average_purchase_price.round(2),\n",
    "    \"Total Purchase Value\": total_purchase_price\n",
    "})\n",
    "coolest_players = coolest_players.sort_values(\"Total Purchase Value\", ascending = False)\n",
    "coolest_players.head()\n"
   ]
  },
  {
   "cell_type": "code",
<<<<<<< HEAD
<<<<<<< HEAD
   "execution_count": 14,
=======
   "execution_count": 13,
>>>>>>> 01b2774f2b79ee541ecaa470bea9277fb462d5f2
=======
   "execution_count": 42,
>>>>>>> 71b255b0e06311a05e81fac9d67488eb51e19f2b
   "metadata": {},
   "outputs": [
    {
     "data": {
      "text/html": [
       "<div>\n",
       "<style scoped>\n",
       "    .dataframe tbody tr th:only-of-type {\n",
       "        vertical-align: middle;\n",
       "    }\n",
       "\n",
       "    .dataframe tbody tr th {\n",
       "        vertical-align: top;\n",
       "    }\n",
       "\n",
       "    .dataframe thead th {\n",
       "        text-align: right;\n",
       "    }\n",
       "</style>\n",
       "<table border=\"1\" class=\"dataframe\">\n",
       "  <thead>\n",
       "    <tr style=\"text-align: right;\">\n",
       "      <th></th>\n",
       "      <th></th>\n",
       "      <th>Purchase Count</th>\n",
       "      <th>Item Price</th>\n",
       "      <th>Total Purchase Value</th>\n",
       "    </tr>\n",
       "    <tr>\n",
       "      <th>Item ID</th>\n",
       "      <th>Item Name</th>\n",
       "      <th></th>\n",
       "      <th></th>\n",
       "      <th></th>\n",
       "    </tr>\n",
       "  </thead>\n",
       "  <tbody>\n",
       "    <tr>\n",
       "      <th>178</th>\n",
       "      <th>Oathbreaker, Last Hope of the Breaking Storm</th>\n",
       "      <td>12</td>\n",
       "      <td>4.23</td>\n",
       "      <td>50.76</td>\n",
       "    </tr>\n",
       "    <tr>\n",
       "      <th>145</th>\n",
       "      <th>Fiery Glass Crusader</th>\n",
       "      <td>9</td>\n",
       "      <td>4.58</td>\n",
       "      <td>41.22</td>\n",
       "    </tr>\n",
       "    <tr>\n",
       "      <th>108</th>\n",
       "      <th>Extraction, Quickblade Of Trembling Hands</th>\n",
       "      <td>9</td>\n",
       "      <td>3.53</td>\n",
       "      <td>31.77</td>\n",
       "    </tr>\n",
       "    <tr>\n",
       "      <th>82</th>\n",
       "      <th>Nirvana</th>\n",
       "      <td>9</td>\n",
       "      <td>4.90</td>\n",
       "      <td>44.10</td>\n",
       "    </tr>\n",
       "    <tr>\n",
       "      <th>19</th>\n",
       "      <th>Pursuit, Cudgel of Necromancy</th>\n",
       "      <td>8</td>\n",
       "      <td>1.02</td>\n",
       "      <td>8.16</td>\n",
       "    </tr>\n",
       "  </tbody>\n",
       "</table>\n",
       "</div>"
      ],
      "text/plain": [
       "                                                      Purchase Count  \\\n",
       "Item ID Item Name                                                      \n",
       "178     Oathbreaker, Last Hope of the Breaking Storm              12   \n",
       "145     Fiery Glass Crusader                                       9   \n",
       "108     Extraction, Quickblade Of Trembling Hands                  9   \n",
       "82      Nirvana                                                    9   \n",
       "19      Pursuit, Cudgel of Necromancy                              8   \n",
       "\n",
       "                                                      Item Price  \\\n",
       "Item ID Item Name                                                  \n",
       "178     Oathbreaker, Last Hope of the Breaking Storm        4.23   \n",
       "145     Fiery Glass Crusader                                4.58   \n",
       "108     Extraction, Quickblade Of Trembling Hands           3.53   \n",
       "82      Nirvana                                             4.90   \n",
       "19      Pursuit, Cudgel of Necromancy                       1.02   \n",
       "\n",
       "                                                      Total Purchase Value  \n",
       "Item ID Item Name                                                           \n",
       "178     Oathbreaker, Last Hope of the Breaking Storm                 50.76  \n",
       "145     Fiery Glass Crusader                                         41.22  \n",
       "108     Extraction, Quickblade Of Trembling Hands                    31.77  \n",
       "82      Nirvana                                                      44.10  \n",
       "19      Pursuit, Cudgel of Necromancy                                 8.16  "
      ]
     },
<<<<<<< HEAD
<<<<<<< HEAD
     "execution_count": 14,
=======
     "execution_count": 13,
>>>>>>> 01b2774f2b79ee541ecaa470bea9277fb462d5f2
=======
     "execution_count": 42,
>>>>>>> 71b255b0e06311a05e81fac9d67488eb51e19f2b
     "metadata": {},
     "output_type": "execute_result"
    }
   ],
   "source": [
    "#Onto the final leg, and I truely do believe I have mastered all things groupby\n",
    "\n",
    "#Creates a dataframe with the amount of time each item was sold\n",
    "item_purchase_count = df.groupby([\"Item ID\", \"Item Name\"])[\"Price\"]\n",
    "item_purchase_count = item_purchase_count.count()\n",
    "\n",
    "#Creates a dataframe with the average price each item was sold at\n",
    "item_purchase_price = df.groupby([\"Item ID\", \"Item Name\"])[\"Price\"].mean()\n",
    "#item_purchase_price.head()\n",
    "\n",
    "#Creates a dataframe with the total amount of profit from each item\n",
    "item_purchase_value = df.groupby([\"Item ID\", \"Item Name\"])[\"Price\"].sum()\n",
    "#item_purchase_value.head()\n",
    "\n",
    "#Adds all the dataframes together to create a super dataframe and sorts it by the number of sales\n",
    "most_popular_items = pd.DataFrame({\n",
    "    \"Purchase Count\": item_purchase_count,\n",
    "    \"Item Price\": item_purchase_price,\n",
    "    \"Total Purchase Value\": item_purchase_value\n",
    "})\n",
    "most_popular_items = most_popular_items.sort_values(\"Purchase Count\", ascending=False)\n",
    "most_popular_items.head()"
   ]
  },
  {
   "cell_type": "code",
<<<<<<< HEAD
<<<<<<< HEAD
   "execution_count": 15,
=======
   "execution_count": 14,
>>>>>>> 01b2774f2b79ee541ecaa470bea9277fb462d5f2
=======
   "execution_count": 43,
>>>>>>> 71b255b0e06311a05e81fac9d67488eb51e19f2b
   "metadata": {},
   "outputs": [
    {
     "data": {
      "text/html": [
       "<div>\n",
       "<style scoped>\n",
       "    .dataframe tbody tr th:only-of-type {\n",
       "        vertical-align: middle;\n",
       "    }\n",
       "\n",
       "    .dataframe tbody tr th {\n",
       "        vertical-align: top;\n",
       "    }\n",
       "\n",
       "    .dataframe thead th {\n",
       "        text-align: right;\n",
       "    }\n",
       "</style>\n",
       "<table border=\"1\" class=\"dataframe\">\n",
       "  <thead>\n",
       "    <tr style=\"text-align: right;\">\n",
       "      <th></th>\n",
       "      <th></th>\n",
       "      <th>Purchase Count</th>\n",
       "      <th>Item Price</th>\n",
       "      <th>Total Purchase Value</th>\n",
       "    </tr>\n",
       "    <tr>\n",
       "      <th>Item ID</th>\n",
       "      <th>Item Name</th>\n",
       "      <th></th>\n",
       "      <th></th>\n",
       "      <th></th>\n",
       "    </tr>\n",
       "  </thead>\n",
       "  <tbody>\n",
       "    <tr>\n",
       "      <th>178</th>\n",
       "      <th>Oathbreaker, Last Hope of the Breaking Storm</th>\n",
       "      <td>12</td>\n",
       "      <td>4.23</td>\n",
       "      <td>50.76</td>\n",
       "    </tr>\n",
       "    <tr>\n",
       "      <th>82</th>\n",
       "      <th>Nirvana</th>\n",
       "      <td>9</td>\n",
       "      <td>4.90</td>\n",
       "      <td>44.10</td>\n",
       "    </tr>\n",
       "    <tr>\n",
       "      <th>145</th>\n",
       "      <th>Fiery Glass Crusader</th>\n",
       "      <td>9</td>\n",
       "      <td>4.58</td>\n",
       "      <td>41.22</td>\n",
       "    </tr>\n",
       "    <tr>\n",
       "      <th>92</th>\n",
       "      <th>Final Critic</th>\n",
       "      <td>8</td>\n",
       "      <td>4.88</td>\n",
       "      <td>39.04</td>\n",
       "    </tr>\n",
       "    <tr>\n",
       "      <th>103</th>\n",
       "      <th>Singed Scalpel</th>\n",
       "      <td>8</td>\n",
       "      <td>4.35</td>\n",
       "      <td>34.80</td>\n",
       "    </tr>\n",
       "  </tbody>\n",
       "</table>\n",
       "</div>"
      ],
      "text/plain": [
       "                                                      Purchase Count  \\\n",
       "Item ID Item Name                                                      \n",
       "178     Oathbreaker, Last Hope of the Breaking Storm              12   \n",
       "82      Nirvana                                                    9   \n",
       "145     Fiery Glass Crusader                                       9   \n",
       "92      Final Critic                                               8   \n",
       "103     Singed Scalpel                                             8   \n",
       "\n",
       "                                                      Item Price  \\\n",
       "Item ID Item Name                                                  \n",
       "178     Oathbreaker, Last Hope of the Breaking Storm        4.23   \n",
       "82      Nirvana                                             4.90   \n",
       "145     Fiery Glass Crusader                                4.58   \n",
       "92      Final Critic                                        4.88   \n",
       "103     Singed Scalpel                                      4.35   \n",
       "\n",
       "                                                      Total Purchase Value  \n",
       "Item ID Item Name                                                           \n",
       "178     Oathbreaker, Last Hope of the Breaking Storm                 50.76  \n",
       "82      Nirvana                                                      44.10  \n",
       "145     Fiery Glass Crusader                                         41.22  \n",
       "92      Final Critic                                                 39.04  \n",
       "103     Singed Scalpel                                               34.80  "
      ]
     },
<<<<<<< HEAD
<<<<<<< HEAD
     "execution_count": 15,
=======
     "execution_count": 14,
>>>>>>> 01b2774f2b79ee541ecaa470bea9277fb462d5f2
=======
     "execution_count": 43,
>>>>>>> 71b255b0e06311a05e81fac9d67488eb51e19f2b
     "metadata": {},
     "output_type": "execute_result"
    }
   ],
   "source": [
    "#Changes the dataframe to sort it by the most profitable item\n",
    "most_popular_items = most_popular_items.sort_values(\"Total Purchase Value\", ascending=False)\n",
    "most_popular_items.head()\n",
    "\n",
    "#Final notes on this assignment, geniuinely one of the hardest labs i've ever done, right behind pointers\n",
    "#But it's fine becuase I really do feel like I understand groupby now, unlike pointers :)"
   ]
  },
  {
   "cell_type": "code",
   "execution_count": null,
   "metadata": {},
   "outputs": [],
   "source": []
  },
  {
   "cell_type": "code",
   "execution_count": null,
   "metadata": {},
   "outputs": [],
   "source": []
  }
 ],
 "metadata": {
  "kernelspec": {
   "display_name": "Python 3",
   "language": "python",
   "name": "python3"
  },
  "language_info": {
   "codemirror_mode": {
    "name": "ipython",
    "version": 3
   },
   "file_extension": ".py",
   "mimetype": "text/x-python",
   "name": "python",
   "nbconvert_exporter": "python",
   "pygments_lexer": "ipython3",
   "version": "3.7.3"
  }
 },
 "nbformat": 4,
 "nbformat_minor": 2
}
